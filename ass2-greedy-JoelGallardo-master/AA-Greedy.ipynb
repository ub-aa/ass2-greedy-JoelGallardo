{
 "cells": [
  {
   "cell_type": "markdown",
   "metadata": {},
   "source": [
    "<div style=\"padding:30px; color: white; background-color: #0071CD\">\n",
    "<center>\n",
    "<img src=\"img/logoub.jpeg\"></img>\n",
    "<center>\n",
    "<p>\n",
    "<h1>Algorísmica Avançada</h1>\n",
    "<h2>Práctica 2: Greedy</h2>\n",
    "</center>\n",
    "</p>\n",
    "</div>"
   ]
  },
  {
   "cell_type": "markdown",
   "metadata": {},
   "source": [
    "<div class=\"alert alert-success\" style=\"width:90%; margin:0 auto;\">\n",
    "  <h2><p>Minimum Spanning Tree</p></h2>\n",
    "  <p>\n",
    "Dado un grafo conexo y no dirigido, un minimum spanning tree de ese grafo es un subgrafo que tiene que ser un árbol y contener todos los vértices del grafo inicial. Cada arista tiene asignado un peso proporcional entre ellos, que es un número representativo de algún objeto, distancia, etc.; y se usa para asignar un peso total al MST computando la suma de todos los pesos de las aristas del árbol en cuestión. Un MST o un árbol expandido mínimo es un árbol recubridor que pesa menos o igual que otros árboles recubridores. Todo grafo tiene un bosque recubridor mínimo.\n",
    "  </p>\n",
    "  <p>\n",
    "      En esta práctica se plantea la implementación del algoritmo de Prim para encontrar el arbol de expansión mínima en el metro de Londres.\n",
    "  </p>\n",
    "  </div>\n"
   ]
  },
  {
   "cell_type": "markdown",
   "metadata": {},
   "source": [
    "<div class=\"alert alert-danger\" style=\"width:80%; margin:0 auto; padding\">\n",
    "<center><p><h3> Código </h3></p> </center>\n",
    "<p>\n",
    "<h3>INPUT</h3>\n",
    "<ul>\n",
    "<li>__G__: El grafo del metro de londres.</li>\n",
    "</ul>\n",
    "<br>\n",
    "<h3>OUTPUT</h3>\n",
    "\n",
    "<ul>\n",
    "<li>\n",
    "__tree__: Objeto de tipo `Graph` que contenga el MST del grafo inical.\n",
    "</li>\n",
    "<ul>\n",
    "\n",
    "</p>\n",
    "</div>\n"
   ]
  },
  {
   "cell_type": "code",
   "execution_count": 1,
   "metadata": {},
   "outputs": [
    {
     "data": {
      "text/plain": [
       "{'color': '0d6928',\n",
       " 'distance': 0.014782760229403606,\n",
       " 'line': 4,\n",
       " 'name': 'District Line',\n",
       " 'stripe': 'NULL'}"
      ]
     },
     "execution_count": 1,
     "metadata": {},
     "output_type": "execute_result"
    }
   ],
   "source": [
    "# TODO: Importar grafo de la Práctica0.2\n",
    "from graph import Graph\n",
    "from util import get_subway_graph, draw_subway_graph\n",
    "# from test import test\n",
    "\n",
    "G, lines = get_subway_graph('csv', Graph)\n",
    "G.edge[1][52]"
   ]
  },
  {
   "cell_type": "code",
   "execution_count": null,
   "metadata": {},
   "outputs": [],
   "source": [
    "draw_subway_graph(G, lines, figsize=(10,6))"
   ]
  },
  {
   "cell_type": "code",
   "execution_count": 77,
   "metadata": {},
   "outputs": [],
   "source": [
    "import random\n",
    "def prim(G, origin=None, infinity=99999999999):\n",
    "    \"\"\" Implementación del algoritmo de Prim para obtener el MST de un grafo cualquiera.\n",
    "    Args:\n",
    "        G (Graph): El grafo de tipo Graph sobre el que queremos buscar los componentes conexos\n",
    "    Returns:\n",
    "        tree: El grafo de tipo Graph que contiene el arbol de expansión mínima.\n",
    "    \"\"\"\n",
    "     #Diccionari on guardo tots els nodes del graf (O(1))\n",
    "    _nodes = {}\n",
    "    #Diccionari on guardo el node amb el seu anterior, per a saber el node previ. (O(1))\n",
    "    _previous = {}\n",
    "         \n",
    "    tree = Graph()\n",
    "    \n",
    "    for node in G.nodes():\n",
    "        _nodes[node] = infinity\n",
    "        _previous[node]  = None\n",
    "        \n",
    "    origin = random.choice(list(_nodes.values()))\n",
    "    origin = None\n",
    "    \n",
    "    while _nodes:\n",
    "        \n",
    "        _llista_valors = list(_nodes.values()) #(O(1)) \n",
    "        _min_llista_valors = _llista_valors.index(min(_llista_valors)) #(O(1))\n",
    "        _minim = (list(_nodes.keys())[_min_llista_valors]) #(O(1))\n",
    "        \n",
    "        for vei in G.neighbors(_minim):\n",
    "            \n",
    "            if vei in _nodes and _nodes[_minim]+G.edge[_minim][vei]['distance'] < _nodes[vei]:\n",
    "                \n",
    "                _nodes[vei] = _nodes[_minim]+G.edge[_minim][vei]['distance']\n",
    "                _previous[vei] = _minim\n",
    "                tree.add_edge[_minim][vei]\n",
    "        \n",
    "        del _nodes[_minim] \n",
    "    \n",
    "\n",
    "    \n",
    "\n",
    "    return tree"
   ]
  },
  {
   "cell_type": "code",
   "execution_count": 78,
   "metadata": {},
   "outputs": [
    {
     "data": {
      "text/plain": [
       "<graph.Graph at 0x1ac3b417a20>"
      ]
     },
     "execution_count": 78,
     "metadata": {},
     "output_type": "execute_result"
    }
   ],
   "source": [
    "prim(G)"
   ]
  },
  {
   "cell_type": "code",
   "execution_count": 15,
   "metadata": {},
   "outputs": [
    {
     "name": "stdout",
     "output_type": "stream",
     "text": [
      "Help on Graph in module graph object:\n",
      "\n",
      "class Graph(builtins.object)\n",
      " |  Clase Graph, que representa un grafo (conjunto de vértices y aristas). La clase representa un grafo no dirigido, por lo tanto, \n",
      " |  las aristas que unen dos vértices son bidireccionales.\n",
      " |  Métodos:\n",
      " |      -def __init__(self): Constructor de la clase, donde se crea el conjunto vacío de nodos y aristas.\n",
      " |      -def node(self)(@property): Atributo que es un conjunto de nodos en un diccionario, donde la key es el nodo y el value son\n",
      " |       los atributos del nodo.\n",
      " |      -def edge(self)(@property): Atributo que es un conjunto de aristas en un diccionario, donde la key es un nodo y los value\n",
      " |       son diccionarios, donde la key es el nodo al que va la arista y el value los atributos de dicha arista.\n",
      " |      -def nodes(self): Devuelve una lista con todos los nodos.\n",
      " |      -def edges(self): Devuelve una lista con tuplas que representan las aristas (nodo1,nodo2)\n",
      " |      -def add_node(self, node, attr_dict=None): Añade el nodo al diccionario de nodos, si el elemento ya existía, en caso de que\n",
      " |       se especifique un nuevo atributo, se añadirá al diccionario de atributos. 'attr_dict' = dictionary\n",
      " |      -def add_edge(self, node1, node2, attr_dict=None): Añade una arista al diccionario de aristas, si uno de los nodos\n",
      " |       especificados no existe, se creará el nodo de forma implícita. 'attr_dict' especifica un atributo para la arista, si ya\n",
      " |       contenía un atributo, se añade al diccionario de atributos.\n",
      " |      -def add_nodes_from(self, node_list, attr_dict=None): Añade todos los nodos especificados en la lista 'node_list', a todos\n",
      " |       les añade los atributos especificados en 'attr_dict'.\n",
      " |      -def add_edges_from(self, edge_list, attr_dict=None): Añade todas las aristas especificadas en la lista 'edge_list', a \n",
      " |       todas les añade los atributos especificados en 'attr_dict'.\n",
      " |      -def degree(self,node): Devuelve el grado del nodo 'node', si el nodo no existe, lanza una excepción.\n",
      " |      -def __getitem__(self, node): Devuelve los nodos a los cuales está conectado el nodo 'node', con los respectivos atributos\n",
      " |       de cada arista, en forma de diccionario. {node1:{attributes},node2:{attributes}}.\n",
      " |      -def __len__(self): Devuelve el número de nodos que hay en el grafo.\n",
      " |      -def neighbors(self, node): Devuelve una lista con los nodos incidentes en el nodo 'node'.\n",
      " |      -def remove_node(self, node1): Elimina el nodo 'node1' del grafo y todas sus aristas incidentes.\n",
      " |      -def remove_edge(self, node1, node2): Elimina la arista (node1,node2) del grafo. Ímplicitamente se elimina también la\n",
      " |       arista (node2,node1).\n",
      " |      -def remove_nodes_from(self, node_list): Elimina todos los nodos especificados en la lista de nodos 'node_list'. De igual\n",
      " |       forma que en la función remove_node, se elimina el nodo y todas sus aristas incidentes.\n",
      " |      -def remove_edges_from(self, edge_list): Elimina todas las aristas especificadas en la lista de aristas 'edge_list'. De \n",
      " |       igual forma que en la función remove_edge, se elimina la arista birideccional (se elimina tanto (node1,node2) como \n",
      " |       (node2,node1)).\n",
      " |  \n",
      " |  Methods defined here:\n",
      " |  \n",
      " |  __getitem__(self, node)\n",
      " |      Devuelve los nodos a los cuales está conectado el nodo 'node', con los respectivos atributos\n",
      " |      de cada arista, en forma de diccionario. {node1:{attributes},node2:{attributes}}.\n",
      " |  \n",
      " |  __init__(self)\n",
      " |      Constructor de la clase, donde se crea el conjunto vacío de nodos y aristas.\n",
      " |  \n",
      " |  __len__(self)\n",
      " |      Devuelve el número de nodos que hay en el grafo.\n",
      " |  \n",
      " |  add_edge(self, node1, node2, attr_dict=None)\n",
      " |      Añade una arista al diccionario de aristas, si uno de los nodos especificados no existe, se creará el nodo de forma implícita. \n",
      " |      'attr_dict' especifica un atributo para la arista, si ya contenía un atributo, se añade al diccionario de atributos.\n",
      " |  \n",
      " |  add_edges_from(self, edge_list, attr_dict=None)\n",
      " |      Añade todas las aristas especificadas en la lista 'edge_list' [(nodo1,nodo2),(nodo2,nodo3),...], a todas les añade \n",
      " |      los atributos especificados en 'attr_dict'.\n",
      " |  \n",
      " |  add_node(self, node, attr_dict=None)\n",
      " |      Añade el nodo al diccionario de nodos, si el elemento ya existía, en caso de que se especifique un nuevo atributo,\n",
      " |      se añadirá al diccionario de atributos. 'attr_dict' = dictionary\n",
      " |  \n",
      " |  add_nodes_from(self, node_list, attr_dict=None)\n",
      " |      Añade todos los nodos especificados en la lista 'node_list' [nodo1,nodo2,...], a todos les añade los atributos especificados en 'attr_dict'.\n",
      " |  \n",
      " |  degree(self, node)\n",
      " |      Devuelve el grado del nodo 'node', si el nodo no existe, lanza una excepción.\n",
      " |  \n",
      " |  edges(self)\n",
      " |      Devuelve una lista con tuplas que representan las aristas (nodo1,nodo2)\n",
      " |  \n",
      " |  neighbors(self, node)\n",
      " |      Devuelve una lista con los nodos incidentes en el nodo 'node'.\n",
      " |  \n",
      " |  nodes(self)\n",
      " |      Devuelve una lista con todos los nodos.\n",
      " |  \n",
      " |  remove_edge(self, node1, node2)\n",
      " |      Elimina la arista (node1,node2) del grafo. Ímplicitamente se elimina también la arista (node2,node1).\n",
      " |  \n",
      " |  remove_edges_from(self, edge_list)\n",
      " |      Elimina todas las aristas especificadas en la lista de aristas 'edge_list' [(nodo1,nodo2),(nodo2,nodo3),...]. De igual forma\n",
      " |      que en la función remove_edge, se elimina la arista birideccional (se elimina tanto (node1,node2) como (node2,node1)).\n",
      " |  \n",
      " |  remove_node(self, node1)\n",
      " |      Elimina el nodo 'node1' del grafo y todas sus aristas incidentes.\n",
      " |  \n",
      " |  remove_nodes_from(self, node_list)\n",
      " |      Elimina todos los nodos especificados en la lista de nodos 'node_list' [nodo1,nodo2,...]. De igual forma que en la \n",
      " |      función remove_node, se elimina el nodo y todas sus aristas incidentes.\n",
      " |  \n",
      " |  ----------------------------------------------------------------------\n",
      " |  Data descriptors defined here:\n",
      " |  \n",
      " |  __dict__\n",
      " |      dictionary for instance variables (if defined)\n",
      " |  \n",
      " |  __weakref__\n",
      " |      list of weak references to the object (if defined)\n",
      " |  \n",
      " |  edge\n",
      " |      (Atributo) Conjunto de aristas en un diccionario, donde la key es un nodo y los value son diccionarios, \n",
      " |      donde la key es el nodo al que va la arista y el value los atributos de dicha arista.\n",
      " |  \n",
      " |  node\n",
      " |      (Atributo) Conjunto de nodos en un diccionario, donde la key es el nodo y el value son los atributos del nodo.\n",
      "\n"
     ]
    }
   ],
   "source": [
    "help(G)"
   ]
  },
  {
   "cell_type": "code",
   "execution_count": 8,
   "metadata": {},
   "outputs": [],
   "source": [
    "G2 = nx.Graph()\n",
    "G2.add_nodes_from([1,2,3,4,5,6])\n",
    "\n",
    "G2.add_edge(1,2,{'color': 'rojo', 'distance': 6,'line': 1, 'name': 'L5', 'stripe': 'NULL'})\n",
    "G2.add_edge(1,5,{'color': 'rojo', 'distance': 4,'line': 1, 'name': 'L5', 'stripe': 'NULL'})\n",
    "G2.add_edge(1,4,{'color': 'rojo', 'distance': 5,'line': 1, 'name': 'L5', 'stripe': 'NULL'})\n",
    "\n",
    "G2.add_edge(2,4,{'color': 'rojo', 'distance': 1,'line': 1, 'name': 'L5', 'stripe': 'NULL'})\n",
    "G2.add_edge(2,5,{'color': 'rojo', 'distance': 2,'line': 1, 'name': 'L5', 'stripe': 'NULL'})\n",
    "G2.add_edge(2,3,{'color': 'rojo', 'distance': 5,'line': 1, 'name': 'L5', 'stripe': 'NULL'})\n",
    "G2.add_edge(2,6,{'color': 'rojo', 'distance': 3,'line': 1, 'name': 'L5', 'stripe': 'NULL'})\n",
    "\n",
    "G2.add_edge(3,6,{'color': 'rojo', 'distance': 4,'line': 1, 'name': 'L5', 'stripe': 'NULL'})\n",
    "\n",
    "G2.add_edge(4,5,{'color': 'rojo', 'distance': 2,'line': 1, 'name': 'L5', 'stripe': 'NULL'})\n",
    "\n",
    "G2.add_edge(5,6,{'color': 'rojo', 'distance': 4,'line': 1, 'name': 'L5', 'stripe': 'NULL'})\n",
    "\n",
    "\n",
    "\n",
    "\n"
   ]
  },
  {
   "cell_type": "code",
   "execution_count": null,
   "metadata": {},
   "outputs": [],
   "source": [
    "G2, lines = get_subway_graph('csv', Graph)\n",
    "draw_subway_graph(G2, lines, figsize=(10,6))"
   ]
  },
  {
   "cell_type": "code",
   "execution_count": 9,
   "metadata": {},
   "outputs": [
    {
     "name": "stderr",
     "output_type": "stream",
     "text": [
      "D:\\Programas\\Anaconda 3.6\\lib\\site-packages\\networkx\\drawing\\nx_pylab.py:126: MatplotlibDeprecationWarning: pyplot.hold is deprecated.\n",
      "    Future behavior will be consistent with the long-time default:\n",
      "    plot commands add elements without first clearing the\n",
      "    Axes and/or Figure.\n",
      "  b = plt.ishold()\n",
      "D:\\Programas\\Anaconda 3.6\\lib\\site-packages\\networkx\\drawing\\nx_pylab.py:138: MatplotlibDeprecationWarning: pyplot.hold is deprecated.\n",
      "    Future behavior will be consistent with the long-time default:\n",
      "    plot commands add elements without first clearing the\n",
      "    Axes and/or Figure.\n",
      "  plt.hold(b)\n",
      "D:\\Programas\\Anaconda 3.6\\lib\\site-packages\\matplotlib\\__init__.py:917: UserWarning: axes.hold is deprecated. Please remove it from your matplotlibrc and/or style files.\n",
      "  warnings.warn(self.msg_depr_set % key)\n",
      "D:\\Programas\\Anaconda 3.6\\lib\\site-packages\\matplotlib\\rcsetup.py:152: UserWarning: axes.hold is deprecated, will be removed in 3.0\n",
      "  warnings.warn(\"axes.hold is deprecated, will be removed in 3.0\")\n"
     ]
    },
    {
     "data": {
      "image/png": "[encoded data removed]",
      "text/plain": [
       "<matplotlib.figure.Figure at 0x1ac3af8f710>"
      ]
     },
     "metadata": {},
     "output_type": "display_data"
    }
   ],
   "source": [
    "import networkx as nx \n",
    "import matplotlib.pyplot as plt\n",
    "nx.draw(G2)\n",
    "\n",
    "plt.show() # display"
   ]
  },
  {
   "cell_type": "markdown",
   "metadata": {},
   "source": [
    "<div class=\"alert alert-danger\" style=\"width:80%; margin:0 auto; padding\">\n",
    "<center><p><h3> Tests </h3></p> </center>\n",
    "<p>\n",
    "Realiza los tests pertinentes en las celdas dispuestas a continuación.\n",
    "</p>\n",
    "</div>\n"
   ]
  },
  {
   "cell_type": "code",
   "execution_count": null,
   "metadata": {
    "collapsed": true
   },
   "outputs": [],
   "source": []
  },
  {
   "cell_type": "markdown",
   "metadata": {},
   "source": [
    "<div class=\"alert alert-info\">\n",
    "<center>\n",
    "  <h1>Comentarios</h1>\n",
    "  <p>\n",
    "  En esta sección tenéis que comentar brevemente (1) __cómo habéis realizado la implementación del algoritmo__ así como un (2) __análisis detallado de la complejidad__ del mismo.\n",
    "  </p>\n",
    "</center>\n",
    "</div>"
   ]
  },
  {
   "cell_type": "markdown",
   "metadata": {},
   "source": [
    "_Escribe tu respuesta en este bloque_"
   ]
  },
  {
   "cell_type": "markdown",
   "metadata": {},
   "source": [
    "<div class=\"alert alert-info\">\n",
    "<center>\n",
    "  <h1>Entrega</h1>\n",
    "  <p>\n",
    "  La entrega de esta práctica se realizará a través del __Campus Virtual__. En ella tenéis que incluir únicamente el fichero `.ipynb` sin comprimir con el código debidamente comentado y los comentarios que se os proponen en la anterior sección.\n",
    "  </p>\n",
    "  <p>\n",
    "  El nombre del archivo ha de seguir el formato:\n",
    "  </p><p style=\"text-align:center\">\n",
    "  ```\n",
    "  <apellidos>_<nombre>_EP1.ipynb\n",
    "  ```\n",
    "  </p>\n",
    "</center>\n",
    "</div>"
   ]
  }
 ],
 "metadata": {
  "kernelspec": {
   "display_name": "Python 3",
   "language": "python",
   "name": "python3"
  },
  "language_info": {
   "codemirror_mode": {
    "name": "ipython",
    "version": 3
   },
   "file_extension": ".py",
   "mimetype": "text/x-python",
   "name": "python",
   "nbconvert_exporter": "python",
   "pygments_lexer": "ipython3",
   "version": "3.6.1"
  }
 },
 "nbformat": 4,
 "nbformat_minor": 2
}
